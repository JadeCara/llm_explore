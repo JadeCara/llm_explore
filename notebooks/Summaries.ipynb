{
 "cells": [
  {
   "cell_type": "code",
   "execution_count": 1,
   "id": "b836d027-d2c8-4d1e-a7e6-19bc6fa12d05",
   "metadata": {},
   "outputs": [],
   "source": [
    "from summary.t5 import summarize_document\n",
    "from summary.bart import summarize_document_with_bart"
   ]
  },
  {
   "cell_type": "code",
   "execution_count": 2,
   "id": "235ab2d4-ff59-4f8a-92ae-da98633de8eb",
   "metadata": {},
   "outputs": [],
   "source": [
    "document_text = (\n",
    "    \"\"\"Artificial intelligence (AI) is intelligence demonstrated by machines, \"\"\"\n",
    "    \"\"\"in contrast to the natural intelligence displayed by humans and animals.\"\"\"\n",
    "    \"\"\"Leading AI textbooks define the field as the study of \"intelligent agents\": \"\"\"\n",
    "    \"\"\"any device that perceives its environment and takes actions that maximize\"\"\"\n",
    "    \"\"\"its chance of successfully achieving its goals. Colloquially, the term \"\"\"\n",
    "    \"\"\"\"artificial intelligence\" is often used to describe machines (or computers)\"\"\"\n",
    "    \"\"\"that mimic \"cognitive\" functions that humans associate with the human mind, \"\"\"\n",
    "    \"\"\"such as \"learning\" and \"problem solving\".\"\"\"\n",
    ")"
   ]
  },
  {
   "cell_type": "code",
   "execution_count": 3,
   "id": "00f309f1-6858-49a8-aec3-314d5e702989",
   "metadata": {},
   "outputs": [
    {
     "name": "stderr",
     "output_type": "stream",
     "text": [
      "You are using the default legacy behaviour of the <class 'transformers.models.t5.tokenization_t5.T5Tokenizer'>. This is expected, and simply means that the `legacy` (previous) behavior will be used so nothing changes for you. If you want to use the new behaviour, set `legacy=False`. This should only be set if you understand what it means, and thoroughly read the reason why this was added as explained in https://github.com/huggingface/transformers/pull/24565\n",
      "Asking to truncate to max_length but no maximum length is provided and the model has no predefined maximum length. Default to no truncation.\n"
     ]
    },
    {
     "name": "stdout",
     "output_type": "stream",
     "text": [
      "\n",
      "Summary t5:\n",
      "artificial intelligence (AI) is intelligence demonstrated by machines. the term \"artificial intelligence\" is often used to describe machines that mimic \"cognitive\" functions that humans associate with the human mind.\n",
      "\n",
      "Summary bart:\n",
      "Leading AI textbooks define the field as the study of \"intelligent agents\" Colloquially, the term \"artificial intelligence\" is often used to describe machines (or computers)that mimic \"cognitive\" functions that humans associate with the human mind.\n"
     ]
    }
   ],
   "source": [
    "summary_t5 = summarize_document(document_text, model_name=\"t5-small\")\n",
    "summary_bart = summarize_document_with_bart(document_text)\n",
    "\n",
    "print(\"\\nSummary t5:\")\n",
    "print(summary_t5)\n",
    "\n",
    "\n",
    "print(\"\\nSummary bart:\")\n",
    "print(summary_bart)"
   ]
  },
  {
   "cell_type": "code",
   "execution_count": null,
   "id": "42a5b602-50d0-4e86-933f-b31e46d01986",
   "metadata": {},
   "outputs": [],
   "source": []
  }
 ],
 "metadata": {
  "kernelspec": {
   "display_name": "Python 3 (ipykernel)",
   "language": "python",
   "name": "python3"
  },
  "language_info": {
   "codemirror_mode": {
    "name": "ipython",
    "version": 3
   },
   "file_extension": ".py",
   "mimetype": "text/x-python",
   "name": "python",
   "nbconvert_exporter": "python",
   "pygments_lexer": "ipython3",
   "version": "3.10.12"
  }
 },
 "nbformat": 4,
 "nbformat_minor": 5
}
